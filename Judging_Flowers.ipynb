{
  "nbformat": 4,
  "nbformat_minor": 0,
  "metadata": {
    "colab": {
      "name": "Judging Flowers.ipynb",
      "provenance": [],
      "collapsed_sections": [],
      "authorship_tag": "ABX9TyOT31VsAksCFWj2mYA6uhEX",
      "include_colab_link": true
    },
    "kernelspec": {
      "name": "python3",
      "display_name": "Python 3"
    },
    "language_info": {
      "name": "python"
    }
  },
  "cells": [
    {
      "cell_type": "markdown",
      "metadata": {
        "id": "view-in-github",
        "colab_type": "text"
      },
      "source": [
        "<a href=\"https://colab.research.google.com/github/Diego1P/csc-44800/blob/main/Judging_Flowers.ipynb\" target=\"_parent\"><img src=\"https://colab.research.google.com/assets/colab-badge.svg\" alt=\"Open In Colab\"/></a>"
      ]
    },
    {
      "cell_type": "code",
      "execution_count": 113,
      "metadata": {
        "id": "Ms0Pm3ImT8Fe"
      },
      "outputs": [],
      "source": [
        "import numpy as np\n",
        "import pandas as pd\n",
        "from sklearn.datasets import load_iris\n",
        "import sklearn\n",
        "from sklearn.model_selection import train_test_split\n",
        "from sklearn.linear_model import LogisticRegression\n",
        "from sklearn import svm\n",
        "from sklearn.neural_network import MLPClassifier\n",
        "from sklearn.neighbors import KNeighborsClassifier"
      ]
    },
    {
      "cell_type": "code",
      "source": [
        "#Part 1: Loading Dataset\n",
        "\n",
        "iris = load_iris()\n",
        "iris_df = pd.DataFrame(iris.data, columns=iris.feature_names)\n",
        "iris_df.head(15)"
      ],
      "metadata": {
        "id": "wosbd-kGUfKz"
      },
      "execution_count": null,
      "outputs": []
    },
    {
      "cell_type": "code",
      "source": [
        "iris_df.info()\n",
        "iris_df.describe()"
      ],
      "metadata": {
        "id": "DiaIME-mgXk-"
      },
      "execution_count": null,
      "outputs": []
    },
    {
      "cell_type": "code",
      "source": [
        "#Part 2: Splitting Dataset\n",
        "\n",
        "features = iris['data']\n",
        "labels = iris['target']\n",
        "\n",
        "x_train, x_test, y_train, y_test = train_test_split(features, labels, test_size=0.1, random_state=3)"
      ],
      "metadata": {
        "id": "HlGQ71YFVdFr"
      },
      "execution_count": 116,
      "outputs": []
    },
    {
      "cell_type": "code",
      "source": [
        "#Part 3: Logistic Regression\n",
        "\n",
        "logistic_model = LogisticRegression(solver='lbfgs', max_iter=1000).fit(x_train, y_train)\n",
        "logistic_model.predict_proba(np.array([[4.6, 3.2, 1.4, 0.2]]))"
      ],
      "metadata": {
        "id": "uhwmkMrbhHHl"
      },
      "execution_count": null,
      "outputs": []
    },
    {
      "cell_type": "code",
      "source": [
        "logistic_model.score(x_test,y_test)"
      ],
      "metadata": {
        "id": "Kf0Izlm5lS5q"
      },
      "execution_count": null,
      "outputs": []
    },
    {
      "cell_type": "code",
      "source": [
        "logistic_model.coef_"
      ],
      "metadata": {
        "id": "I8B98lqllhC8"
      },
      "execution_count": null,
      "outputs": []
    },
    {
      "cell_type": "code",
      "source": [
        "logistic_model.intercept_"
      ],
      "metadata": {
        "id": "k2TM1WjElsy9"
      },
      "execution_count": null,
      "outputs": []
    },
    {
      "cell_type": "code",
      "source": [
        "#Part 4: Support Vector Machine\n",
        "\n",
        "SVM_model = svm.SVC(probability=True).fit(x_train, y_train)\n",
        "SVM_model.predict_proba(np.array([[4.6, 3.2, 1.4, 0.2]]))"
      ],
      "metadata": {
        "id": "Q_E8m2HgmA_2"
      },
      "execution_count": null,
      "outputs": []
    },
    {
      "cell_type": "code",
      "source": [
        "SVM_model.score(x_test, y_test)"
      ],
      "metadata": {
        "id": "C3C0VxcynlyZ"
      },
      "execution_count": null,
      "outputs": []
    },
    {
      "cell_type": "code",
      "source": [
        "#Part 5: Neural Network\n",
        "\n",
        "MLP_model = MLPClassifier(random_state=1, max_iter=1000).fit(x_train, y_train)\n",
        "MLP_model.predict_proba(x_test[:1])"
      ],
      "metadata": {
        "id": "9ABtyBI0oLy_"
      },
      "execution_count": null,
      "outputs": []
    },
    {
      "cell_type": "code",
      "source": [
        "MLP_model.score(x_test, y_test)"
      ],
      "metadata": {
        "id": "lCfZuwkBtHx8"
      },
      "execution_count": null,
      "outputs": []
    },
    {
      "cell_type": "code",
      "source": [
        "test1 = MLPClassifier(hidden_layer_sizes=(1), activation=\"logistic\", max_iter=5000, solver=\"adam\", learning_rate=\"adaptive\")\n",
        "test1.fit(x_train, y_train)\n",
        "test1.score(x_test, y_test)"
      ],
      "metadata": {
        "id": "icgGfJEoulN_"
      },
      "execution_count": null,
      "outputs": []
    },
    {
      "cell_type": "code",
      "source": [
        "test2 = MLPClassifier(hidden_layer_sizes=(10), activation=\"logistic\", max_iter=5000, solver=\"adam\", learning_rate=\"adaptive\")\n",
        "test2.fit(x_train, y_train)\n",
        "test2.score(x_test, y_test)"
      ],
      "metadata": {
        "colab": {
          "base_uri": "https://localhost:8080/"
        },
        "id": "lkm6kH4nyox0",
        "outputId": "8a12ec5f-7c97-4966-e7e5-0fc7bfe5c5c7"
      },
      "execution_count": 126,
      "outputs": [
        {
          "output_type": "execute_result",
          "data": {
            "text/plain": [
              "1.0"
            ]
          },
          "metadata": {},
          "execution_count": 126
        }
      ]
    },
    {
      "cell_type": "code",
      "source": [
        "test3 = MLPClassifier(hidden_layer_sizes=(10), activation=\"logistic\", max_iter=5000, solver=\"sgd\", learning_rate=\"adaptive\")\n",
        "test3.fit(x_train, y_train)\n",
        "test3.score(x_test, y_test)"
      ],
      "metadata": {
        "colab": {
          "base_uri": "https://localhost:8080/"
        },
        "id": "6rHpTDpYywEW",
        "outputId": "28f09b66-db3b-432e-b519-2d94eb8bb179"
      },
      "execution_count": 127,
      "outputs": [
        {
          "output_type": "execute_result",
          "data": {
            "text/plain": [
              "0.9333333333333333"
            ]
          },
          "metadata": {},
          "execution_count": 127
        }
      ]
    },
    {
      "cell_type": "code",
      "source": [
        "#Part 6: k-Nearest Neighbors\n",
        "\n",
        "kn_model = KNeighborsClassifier()\n",
        "kn_model.fit(x_train, y_train)\n",
        "kn_model.predict_proba(np.array([[4.6, 3.2, 1.4, 0.2]]))"
      ],
      "metadata": {
        "id": "VnAry5eYzzN8"
      },
      "execution_count": null,
      "outputs": []
    },
    {
      "cell_type": "code",
      "source": [
        "kn_model.score(x_test, y_test)"
      ],
      "metadata": {
        "id": "ucbTSBkw0sFg"
      },
      "execution_count": null,
      "outputs": []
    },
    {
      "cell_type": "code",
      "source": [
        "#Part 7 : Conclusions\n",
        "\n",
        "# I think the neural network performs best on this set of data.\n",
        "# All data scores are the same for all the models, however I think\n",
        "# neural network allows for more flexibility."
      ],
      "metadata": {
        "id": "5tJU4jaQ1QGG"
      },
      "execution_count": 133,
      "outputs": []
    }
  ]
}