{
  "nbformat": 4,
  "nbformat_minor": 0,
  "metadata": {
    "colab": {
      "name": "Perez_Diego_Assignment2.ipynb",
      "provenance": []
    },
    "kernelspec": {
      "name": "python3",
      "display_name": "Python 3"
    },
    "language_info": {
      "name": "python"
    }
  },
  "cells": [
    {
      "cell_type": "code",
      "source": [
        "def files_compare_lines(A, B):\n",
        "    A = open(\"A.txt\", \"r+\")\n",
        "    B = open(\"B.txt\", \"r+\")\n",
        "    \n",
        "    file1 = A.read().split(\"\\n\")\n",
        "    file2 = B.read().split(\"\\n\")\n",
        "    \n",
        "    file1len = len(file1)\n",
        "    file2len = len(file2)\n",
        "    if(file1len <= file2len):\n",
        "        j = file1len\n",
        "    else:\n",
        "        j = file2len\n",
        "    \n",
        "    x = []\n",
        "    index_count = []\n",
        "    for i in range(j):\n",
        "        if (file1[i] == file2[i]):\n",
        "            index_count.append(i)\n",
        "            x.append(file1[i])\n",
        "\n",
        "    for i in (range(len(x))):\n",
        "        print(\"line\", index_count[i] + 1, \"is similar in both files:\", x[i])\n",
        "    return x\n",
        "    \n",
        "file1 = \"A.txt\"\n",
        "file2 = \"B.txt\"\n",
        "files_compare_lines(file1, file2)"
      ],
      "metadata": {
        "id": "2I1h0vSmKQTP"
      },
      "execution_count": null,
      "outputs": []
    },
    {
      "cell_type": "markdown",
      "source": [
        "This was a basic program in python we had to design for our csc 113 class, in which we have two text files containing binary lines and the idea was to design a function to compare each of the lines in the files character by character, and if the same lines are the same we return this line."
      ],
      "metadata": {
        "id": "imIiY4HEO43-"
      }
    }
  ]
}